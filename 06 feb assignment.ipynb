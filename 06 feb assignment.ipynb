{
 "cells": [
  {
   "cell_type": "markdown",
   "id": "31e4eed5-3783-432c-81ca-24d5d217347c",
   "metadata": {},
   "source": [
    "## Assignment"
   ]
  },
  {
   "cell_type": "markdown",
   "id": "6400cf32-8fa6-40bf-817f-16704613ed57",
   "metadata": {},
   "source": [
    "Q1. Create a function which will take a list as an argument and return the product of all the numbers\n",
    "after creating a flat list.\n",
    "Use the below-given list as an argument for your function.\n",
    "list1 = [1,2,3,4, [44,55,66, True], False, (34,56,78,89,34), {1,2,3,3,2,1}, {1:34, \"key2\": [55, 67, 78, 89], 4: (45,\n",
    "22, 61, 34)}, [56, 'data science'], 'Machine Learning']\n",
    "Note: you must extract numeric keys and values of the dictionary also."
   ]
  },
  {
   "cell_type": "code",
   "execution_count": 12,
   "id": "4e84a40f-f2d7-4141-b414-57e90956c8dd",
   "metadata": {},
   "outputs": [],
   "source": [
    "def product_of_numbers(lst):\n",
    "    flattened_lst = []\n",
    "    for elem in lst:\n",
    "        if isinstance(elem, (list, tuple, set)):\n",
    "            flattened_lst.extend(elem)\n",
    "        elif isinstance(elem, dict):\n",
    "            for key, value in elem.items():\n",
    "                if isinstance(key, int):\n",
    "                    flattened_lst.append(key)\n",
    "                if isinstance(value, int):\n",
    "                    flattened_lst.append(value)\n",
    "        elif isinstance(elem, int):\n",
    "            flattened_lst.append(elem)\n",
    "    product = 1\n",
    "    for num in flattened_lst:\n",
    "        product *= num\n",
    "    return product\n"
   ]
  },
  {
   "cell_type": "code",
   "execution_count": 13,
   "id": "823ef61b-5ae6-4b95-9cfd-1c0a697add47",
   "metadata": {},
   "outputs": [
    {
     "name": "stdout",
     "output_type": "stream",
     "text": [
      "\n"
     ]
    }
   ],
   "source": [
    "product = product_of_numbers([1,2,3,4, [44,55,66, True], False, (34,56,78,89,34), {1,2,3,3,2,1}, {1:34, \"key2\": [55, 67, 78, 89], 4: (45,\n",
    "22, 61, 34)}, [56, 'data science'], 'Machine Learning'])\n",
    "print(product)\n"
   ]
  },
  {
   "cell_type": "code",
   "execution_count": null,
   "id": "247aab40-b558-4e41-948e-b5a90bbff20c",
   "metadata": {},
   "outputs": [],
   "source": []
  },
  {
   "cell_type": "code",
   "execution_count": 6,
   "id": "6fdf922c-25ab-4a0f-9d25-ac638e5320e5",
   "metadata": {},
   "outputs": [],
   "source": [
    "def encrypt(message):\n",
    "    # Convert message to lowercase\n",
    "    message = message.lower()\n",
    "    \n",
    "    # Create a translation table\n",
    "    trans = str.maketrans('abcdefghijklmnopqrstuvwxyz ', 'zyxwvutsrqponmlkjihgfedcba$')\n",
    "    \n",
    "    # Use the translation table to encrypt the message\n",
    "    encrypted_message = message.translate(trans)\n",
    "    \n",
    "    return encrypted_message\n"
   ]
  },
  {
   "cell_type": "code",
   "execution_count": 7,
   "id": "08dcceb3-b5ec-42ed-992d-e7a69a536f19",
   "metadata": {},
   "outputs": [
    {
     "name": "stdout",
     "output_type": "stream",
     "text": [
      "r$dzmg$gl$yvxlnv$z$wzgz$hxrvmgrhg.\n"
     ]
    }
   ],
   "source": [
    "input_sentence = 'I want to become a Data Scientist.'\n",
    "encrypted_sentence = encrypt(input_sentence)\n",
    "print(encrypted_sentence)\n"
   ]
  },
  {
   "cell_type": "code",
   "execution_count": null,
   "id": "80f4268f-2aa7-4a6a-abc6-64029410867a",
   "metadata": {},
   "outputs": [],
   "source": []
  }
 ],
 "metadata": {
  "kernelspec": {
   "display_name": "Python 3 (ipykernel)",
   "language": "python",
   "name": "python3"
  },
  "language_info": {
   "codemirror_mode": {
    "name": "ipython",
    "version": 3
   },
   "file_extension": ".py",
   "mimetype": "text/x-python",
   "name": "python",
   "nbconvert_exporter": "python",
   "pygments_lexer": "ipython3",
   "version": "3.10.8"
  }
 },
 "nbformat": 4,
 "nbformat_minor": 5
}
